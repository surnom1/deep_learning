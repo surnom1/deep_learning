{
 "cells": [
  {
   "cell_type": "code",
   "execution_count": null,
   "metadata": {},
   "outputs": [],
   "source": [
    "import matplotlib.pyplot as plt"
   ]
  },
  {
   "cell_type": "code",
   "execution_count": null,
   "metadata": {},
   "outputs": [],
   "source": [
    "theta_0=0.0\n",
    "theta_1=0.0\n",
    "learning_rate=0.01\n",
    "iterations=1000\n",
    "X=[1,2,3,4,5]\n",
    "Y=[1,2,1.3,3.75,2.25]\n",
    "m=len(X)"
   ]
  },
  {
   "cell_type": "code",
   "execution_count": null,
   "metadata": {},
   "outputs": [],
   "source": [
    "def compute_cost(theta_0,theta_1,X,Y):\n",
    "    sum=0\n",
    "    for i in range(m):\n",
    "        sum+=(theta_0+theta_1*X[i]-Y[i])**2\n",
    "    return sum/(2*m)"
   ]
  },
  {
   "cell_type": "code",
   "execution_count": null,
   "metadata": {},
   "outputs": [],
   "source": [
    "for i in range(iterations):\n",
    "    predictions = [theta_0 + theta_1 * x for x in X]\n",
    "    d_theta_0=sum([theta_0+theta_1*X[i]-Y[i] for i in range(m)])/m\n",
    "    d_theta_1= sum([(theta_0+theta_1*X[i]-Y[i])*X[i] for i in range(m)])/m\n",
    "    \n",
    "    theta_0=theta_0-learning_rate*d_theta_0\n",
    "    theta_1=theta_1-learning_rate*d_theta_1\n",
    "    if i%100==0:\n",
    "        print(f\"Iteration {i}: Cout = {compute_cost(theta_0,theta_1,X,Y):.4f}, theta_0 = {theta_0:.4f}, theta_1 = {theta_1:.4f}\")\n"
   ]
  },
  {
   "cell_type": "code",
   "execution_count": null,
   "metadata": {},
   "outputs": [],
   "source": [
    "\n",
    "plt.scatter(X,Y)\n",
    "plt.plot(X, [theta_0 + theta_1 * x for x in X])\n",
    "plt.show()\n",
    "#1 Il y a un overflow car le learning rate éloigne de la solution optimale \n",
    "#jusqu'à ce que les valeurs des variables soient trop grandes\n",
    "#2La fonction de cout diminue jusqu'à ce que le modèle arrête d'apprendre pour rester à une certaine valeur.La convergence de la fonction de cout montre que le modèle a convergé."
   ]
  }
 ],
 "metadata": {
  "language_info": {
   "name": "python"
  }
 },
 "nbformat": 4,
 "nbformat_minor": 2
}
